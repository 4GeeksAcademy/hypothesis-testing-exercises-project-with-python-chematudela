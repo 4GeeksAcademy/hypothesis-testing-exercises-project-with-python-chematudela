{
 "cells": [
  {
   "cell_type": "markdown",
   "id": "d9d036c6",
   "metadata": {},
   "source": [
    "# Problemas de prueba de hipótesis"
   ]
  },
  {
   "cell_type": "markdown",
   "id": "d157c4db",
   "metadata": {},
   "source": [
    "## Ejercicio 1\n",
    "\n",
    "Usted es un nutricionista que investiga dos tipos diferentes de dietas para ver si existe una diferencia significativa en la pérdida de peso después de un mes. Eliges dos grupos aleatorios de personas; un grupo sigue la primera dieta y el otro sigue la segunda. Al final del mes, se registra la pérdida de peso (en kg) de cada persona:\n",
    "\n",
    "| Diet 1 | Diet 2 |\n",
    "|:-------|:-------|\n",
    "| 2.0 | 3.0 |\n",
    "| 2.5 | 3.2 |\n",
    "| 3.0 | 3.1 |\n",
    "| 2.8 | 2.9 |\n",
    "| 2.3 | 2.8 |\n",
    "| 2.7 | 3.0 |\n",
    "| 2.5 | 3.2 |\n",
    "\n",
    "Con estos datos se busca responder a la siguiente pregunta: ¿Existe una diferencia significativa en la pérdida de peso promedio entre las personas que siguieron la primera dieta y las que siguieron la segunda dieta?\n",
    "\n",
    "Para sacar conclusiones, siga los siguientes puntos:\n",
    "\n",
    "-Enunciar la hipótesis: hipótesis nula y alternativa.\n",
    "-Realizar la prueba para comprobar la hipótesis. Puede utilizar la prueba t de Student.\n",
    "-Analizar las conclusiones."
   ]
  },
  {
   "cell_type": "code",
   "execution_count": null,
   "id": "8e0f3cf0",
   "metadata": {},
   "outputs": [
    {
     "name": "stdout",
     "output_type": "stream",
     "text": [
      "Con un alor de p-Valor =0.004083270191713912 podemos rechazar la hipótesis nula. Podemos decir que los valores medios no son igueales\n",
      "TtestResult(statistic=np.float64(-3.5383407969933938), pvalue=np.float64(0.004083270191713912), df=np.float64(12.0))\n"
     ]
    }
   ],
   "source": [
    "# TODO\n",
    "\n",
    "#H_0 = Los valores medios de pérdida de peso de Diet1 y Diet 2 no presentan diferencias significativas.\n",
    "#H_1 = Los valores medios de pérdida de peso de Diet1 y Diet 2 presentan diferencias significativas. \n",
    "from scipy import stats\n",
    "import numpy as np\n",
    "\n",
    "diet_1 = [2.0, 2.5, 3.0, 2.8, 2.3, 2.7, 2.5]\n",
    "diet_2 = [3.0, 3.2, 3.1, 2.9, 2.8, 3.0, 3.2]\n",
    "\n",
    "pval = stats.ttest_ind(diet_1, diet_2).pvalue\n",
    "alpha = 0.05\n",
    "print (f\"Con un alor de p-Valor ={pval} podemos rechazar la hipótesis nula. Podemos decir que los valores medios SÍ presentan diferencias significativas\")\n",
    "\n",
    "\n",
    "\n",
    "\n",
    "\n",
    "\n",
    "\n"
   ]
  },
  {
   "cell_type": "markdown",
   "id": "f432e18e",
   "metadata": {},
   "source": [
    "## ANOVA\n",
    "\n",
    "**ANOVA** (*Analysis of Variance - Análisis de variación*) Es una técnica estadística utilizada para comparar las medidas de dos o más grupos. La idea detrás de ANOVA es descomponer la variabilidad total de los datos en dos componentes: variabilidad entre grupos y variabilidad dentro de los grupos:\n",
    "\n",
    "- **Variabilidad entre grupos**: Esta variabilidad se refiere a las diferencias entre las medias del grupo. Si esta variabilidad es considerablemente mayor que la variabilidad dentro del grupo, podría ser una indicación de que al menos una de las medias del grupo es diferente.\n",
    "- **Variabilidad dentro del grupo**: Esta variabilidad se refiere a la dispersión de los datos dentro de cada grupo. Si todos los grupos tienen una variabilidad similar, entonces cualquier diferencia notable en las medias de los grupos podría considerarse significativa.\n",
    "\n",
    "Las hipótesis en ANOVA suelen incluir:\n",
    "\n",
    "- **Hipótesis nula** ($H₀$): Las medias de todos los grupos son iguales.\n",
    "- **Hipótesis alternativa** ($H₁$): Al menos una de las medias del grupo es diferente.\n",
    "\n",
    "Si el resultado de la prueba ANOVA es significativo (por ejemplo, un valor p inferior a un umbral como 0,05), esto sugiere que al menos la media de un grupo es diferente."
   ]
  },
  {
   "cell_type": "markdown",
   "id": "fc5f3721",
   "metadata": {},
   "source": [
    "## Ejercicio 2\n",
    "\n",
    "Un agricultor decide probar tres tipos diferentes de fertilizantes para determinar si alguno es superior en términos de producción de maíz. El agricultor planta maíz en 15 parcelas idénticas y utiliza los tres fertilizantes (5 parcelas para cada tipo). Al final de la temporada mide el rendimiento de maíz (en kg) de cada parcela, con el siguiente resultado:\n",
    "\n",
    "| Fertilizante 1 | Fertilizante 2 | Fertilizante 3 |\n",
    "|:-------------|:-------------|:-------------|\n",
    "| 20 | 22 | 24 |\n",
    "| 21 | 21 | 23 |\n",
    "| 20 | 23 | 22 |\n",
    "| 19 | 22 | 23 |\n",
    "| 20 | 21 | 24 |\n",
    "\n",
    "Con estos datos busca responder la siguiente pregunta: ¿Existe una diferencia significativa en el rendimiento promedio del maíz entre los tres tipos de fertilizantes?\n",
    "\n",
    "Para ayudarte, sigue los siguientes puntos:\n",
    "\n",
    "-Enunciar la hipótesis: hipótesis nula y alternativa.\n",
    "-Realizar la prueba ANOVA.\n",
    "-Analizar las conclusiones.\n",
    "-Si un fertilizante es mejor que otro, ¿cómo podemos saberlo?"
   ]
  },
  {
   "cell_type": "code",
   "execution_count": 18,
   "id": "eecad0ca",
   "metadata": {},
   "outputs": [
    {
     "name": "stdout",
     "output_type": "stream",
     "text": [
      "0.32542950716414576\n",
      "0.3140395561440371\n",
      "0.3140395561440371\n",
      "0.8039599174006208\n",
      "dado que el p-value pvalue ha sido = 0.00014047824793190475 podemos rechazar la hipotesis nula y por tanto afirmar que al menos la media de crecimiento de maiz de un fertilizante es significativamente diferente\n"
     ]
    }
   ],
   "source": [
    "# TODO\n",
    "\n",
    "from scipy import stats\n",
    "import numpy as np\n",
    "\n",
    "ferti_1 = [20, 21, 20, 19, 20]\n",
    "ferti_2 = [22, 21, 23, 22, 21]\n",
    "ferti_3 = [24, 23, 22, 23, 24]\n",
    "\n",
    "#vamos a ver si los conjuntos de datos siguien distribución normal\n",
    "print(stats.shapiro(ferti_1).pvalue)\n",
    "print(stats.shapiro(ferti_2).pvalue)\n",
    "print(stats.shapiro(ferti_3).pvalue)\n",
    "#vamos a ver si las desvest son similares entre grupos. \n",
    "print(stats.levene(ferti_1,ferti_2,ferti_3).pvalue)\n",
    "\n",
    "#Viendo que no podemos considerar que los 3 grupos se comportan como dist normales y tienen varianzas similares proseguimos. \n",
    "\n",
    "#H_0 : el rendimiento promedio de maiz de los tres fertilizantes no presenta diferencias significativas. \n",
    "#H_1 : el rendimiento promedio del maiz de, al menos un fertilizante, sí presenta diferencias significativas. \n",
    "\n",
    "pvalueanova = stats.f_oneway(ferti_1,ferti_2,ferti_3).pvalue\n",
    "\n",
    "print (f\"dado que el p-value pvalue ha sido = {pvalueanova} podemos rechazar la hipotesis nula y por tanto afirmar que al menos la media de crecimiento de maiz de un fertilizante es significativamente diferente\")\n",
    "\n"
   ]
  }
 ],
 "metadata": {
  "kernelspec": {
   "display_name": "Python 3",
   "language": "python",
   "name": "python3"
  },
  "language_info": {
   "codemirror_mode": {
    "name": "ipython",
    "version": 3
   },
   "file_extension": ".py",
   "mimetype": "text/x-python",
   "name": "python",
   "nbconvert_exporter": "python",
   "pygments_lexer": "ipython3",
   "version": "3.11.4"
  }
 },
 "nbformat": 4,
 "nbformat_minor": 5
}
